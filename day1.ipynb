{
 "cells": [
  {
   "cell_type": "code",
   "execution_count": 1,
   "id": "c66e12eb-2597-4066-b095-d0da14f66281",
   "metadata": {
    "tags": []
   },
   "outputs": [
    {
     "name": "stdout",
     "output_type": "stream",
     "text": [
      "55172\n"
     ]
    }
   ],
   "source": [
    "file = open(r\"C:\\Users\\Pollen\\Documents\\Afstudeerstage\\AdventOfCode\\day1input.txt\", \"r\")\n",
    "\n",
    "total_value = 0\n",
    "for line in file.readlines():\n",
    "    for char in line:\n",
    "        if char.isdigit():\n",
    "            last_digit = char #Don't exit the loop early for the last digit\n",
    "    for char in line:\n",
    "        if char.isdigit():\n",
    "            first_digit = char\n",
    "            break  #Exit the loop once the first digit is found\n",
    "    line_value = int(first_digit + last_digit) #Combine the first and last digit into one value per line\n",
    "    total_value += line_value #Add the value of this line to the values of each previous line.\n",
    "    \n",
    "print(total_value)\n",
    "\n",
    "file.close()"
   ]
  },
  {
   "cell_type": "code",
   "execution_count": 3,
   "id": "a2d9710b-b62d-4cdc-8e7b-646941c969d9",
   "metadata": {
    "tags": []
   },
   "outputs": [
    {
     "name": "stdout",
     "output_type": "stream",
     "text": [
      "54925\n"
     ]
    }
   ],
   "source": [
    "file_path = r\"C:\\Users\\Pollen\\Documents\\Afstudeerstage\\AdventOfCode\\day1input.txt\"\n",
    "\n",
    "total_value = 0\n",
    "\n",
    "digit_mapping = {\n",
    "    'one': 'o1e',\n",
    "    'two': 't2o',\n",
    "    'three': 't3e',\n",
    "    'four': 'f4r',\n",
    "    'five': 'f5e',\n",
    "    'six': 's6x',\n",
    "    'seven': 's7n',\n",
    "    'eight': 'e8t',\n",
    "    'nine': 'n9e'\n",
    "}\n",
    "\n",
    "#Read the entire content of the file\n",
    "with open(file_path, \"r\") as file:\n",
    "    content = file.read()\n",
    "\n",
    "#Replace occurrences of spelled-out digits with numeric digits\n",
    "for word, digit in digit_mapping.items():\n",
    "    content = content.replace(word, digit)\n",
    "\n",
    "#Now you can process each line\n",
    "for line in content.split('\\n'):\n",
    "    for char in line:\n",
    "        if char.isdigit():\n",
    "            last_digit = char  #Don't exit the loop early for the last digit\n",
    "    for char in line:\n",
    "        if char.isdigit():\n",
    "            first_digit = char\n",
    "            break  #Exit the loop once the first digit is found\n",
    "    line_value = int(first_digit + last_digit)  #Combine the first and last digit into one value per line\n",
    "    total_value += line_value  #Add the value of this line to the values of each previous line.\n",
    "   \n",
    "print(total_value)"
   ]
  },
  {
   "cell_type": "code",
   "execution_count": null,
   "id": "3d4bfa13-f6fa-40c4-ae36-50c387b0e5e8",
   "metadata": {},
   "outputs": [],
   "source": []
  }
 ],
 "metadata": {
  "kernelspec": {
   "display_name": "Python 3 (ipykernel)",
   "language": "python",
   "name": "python3"
  },
  "language_info": {
   "codemirror_mode": {
    "name": "ipython",
    "version": 3
   },
   "file_extension": ".py",
   "mimetype": "text/x-python",
   "name": "python",
   "nbconvert_exporter": "python",
   "pygments_lexer": "ipython3",
   "version": "3.11.2"
  }
 },
 "nbformat": 4,
 "nbformat_minor": 5
}
