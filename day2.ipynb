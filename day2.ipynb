{
 "cells": [
  {
   "cell_type": "code",
   "execution_count": 1,
   "id": "2c97b7c9-b6c3-4a86-a9ca-dd32e79b4473",
   "metadata": {},
   "outputs": [
    {
     "name": "stdout",
     "output_type": "stream",
     "text": [
      "2541\n"
     ]
    }
   ],
   "source": [
    "file = open(r\"C:\\Users\\Pollen\\Documents\\Afstudeerstage\\AdventOfCode\\day2input.txt\", \"r\")\n",
    "\n",
    "import re\n",
    "\n",
    "red_treshold = 12\n",
    "green_treshold = 13\n",
    "blue_treshold = 14\n",
    "total_value = 0\n",
    "\n",
    "linecount = 0\n",
    "for line in file.readlines():\n",
    "    max_value_red = 0\n",
    "    max_value_green = 0\n",
    "    max_value_blue = 0\n",
    "    game = line.split(\":\")[1].split(\";\")\n",
    "    linecount += 1\n",
    "    #Get max value for each color for each grab\n",
    "    for grab in game:\n",
    "        grab_list = re.split(r'[ ,\\n]', grab)\n",
    "        #Red\n",
    "        if \"red\" in grab_list:\n",
    "            value = int(grab_list[grab_list.index(\"red\") - 1])\n",
    "            if max_value_red < value:\n",
    "                max_value_red = value\n",
    "        #Green\n",
    "        if \"green\" in grab_list:\n",
    "            value = int(grab_list[grab_list.index(\"green\") - 1])\n",
    "            if max_value_green < value:\n",
    "                max_value_green = value\n",
    "        #Blue\n",
    "        if \"blue\" in grab_list:\n",
    "            value = int(grab_list[grab_list.index(\"blue\") - 1])\n",
    "            if max_value_blue < value:\n",
    "                max_value_blue = value            \n",
    "    #Check if grab is possible, if so, add to count\n",
    "    if max_value_red <= red_treshold and max_value_green <= green_treshold and max_value_blue <= blue_treshold:\n",
    "        total_value += linecount\n",
    " \n",
    "print(total_value)"
   ]
  },
  {
   "cell_type": "code",
   "execution_count": 2,
   "id": "848a6453-436e-4633-a496-167bbdce9c0b",
   "metadata": {
    "tags": []
   },
   "outputs": [
    {
     "name": "stdout",
     "output_type": "stream",
     "text": [
      "66016\n"
     ]
    }
   ],
   "source": [
    "file = open(r\"C:\\Users\\Pollen\\Documents\\Afstudeerstage\\AdventOfCode\\day2input.txt\", \"r\")\n",
    "\n",
    "import re\n",
    "\n",
    "red_treshold = 12\n",
    "green_treshold = 13\n",
    "blue_treshold = 14\n",
    "total_value = 0\n",
    "\n",
    "for line in file.readlines():\n",
    "    max_value_red = 0\n",
    "    max_value_green = 0\n",
    "    max_value_blue = 0\n",
    "    game = line.split(\":\")[1].split(\";\")\n",
    "    #Get max value for each color for each grab\n",
    "    for grab in game:\n",
    "        grab_list = re.split(r'[ ,\\n]', grab)\n",
    "        #Red\n",
    "        if \"red\" in grab_list:\n",
    "            value = int(grab_list[grab_list.index(\"red\") - 1])\n",
    "            if max_value_red < value:\n",
    "                max_value_red = value\n",
    "        #Green\n",
    "        if \"green\" in grab_list:\n",
    "            value = int(grab_list[grab_list.index(\"green\") - 1])\n",
    "            if max_value_green < value:\n",
    "                max_value_green = value\n",
    "        #Blue\n",
    "        if \"blue\" in grab_list:\n",
    "            value = int(grab_list[grab_list.index(\"blue\") - 1])\n",
    "            if max_value_blue < value:\n",
    "                max_value_blue = value            \n",
    "    total_value += max_value_red * max_value_green * max_value_blue #power = max grabs per color multiplied\n",
    "\n",
    "print(total_value)"
   ]
  },
  {
   "cell_type": "code",
   "execution_count": null,
   "id": "4c0a87b9-ce27-4010-9051-e78f92b6fd89",
   "metadata": {},
   "outputs": [],
   "source": []
  }
 ],
 "metadata": {
  "kernelspec": {
   "display_name": "Python 3 (ipykernel)",
   "language": "python",
   "name": "python3"
  },
  "language_info": {
   "codemirror_mode": {
    "name": "ipython",
    "version": 3
   },
   "file_extension": ".py",
   "mimetype": "text/x-python",
   "name": "python",
   "nbconvert_exporter": "python",
   "pygments_lexer": "ipython3",
   "version": "3.11.2"
  }
 },
 "nbformat": 4,
 "nbformat_minor": 5
}
