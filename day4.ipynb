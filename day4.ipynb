{
 "cells": [
  {
   "cell_type": "code",
   "execution_count": 173,
   "id": "5d0f1d8c-8603-4db4-ac27-3bb7191a5d5e",
   "metadata": {
    "tags": []
   },
   "outputs": [
    {
     "name": "stdout",
     "output_type": "stream",
     "text": [
      "28750\n"
     ]
    }
   ],
   "source": [
    "file = open(r\"C:\\Users\\Pollen\\Documents\\Afstudeerstage\\AdventOfCode\\day4input.txt\")\n",
    "\n",
    "#Function to get the scratch numbers of the card into a list.\n",
    "def scratch_numbers(line, colon_index, pipe_index, scratchcard):\n",
    "    for i in range(colon_index, pipe_index): #Scratch numbers are found between : and |.\n",
    "        if line[i].isdigit() and line[i + 1].isdigit(): #Include 2 digit numbers\n",
    "            scratchcard.append((int(line[i] + line[i + 1])))\n",
    "        elif line[i].isdigit() and not line[i - 1].isdigit(): #Include 1 digit numbers\n",
    "            scratchcard.append(int(line[i]))\n",
    "    return scratchcard\n",
    "    \n",
    "#Function to get the winning numbers into a list.\n",
    "def winning_numbers(line, pipe_index, winningnumbers):\n",
    "    for i in range(pipe_index, len(line) - 1):\n",
    "        if line[i].isdigit() and line[i + 1].isdigit(): #Include 2 digit numbers\n",
    "            winningnumbers.append((int(line[i] + line[i + 1])))\n",
    "        elif line[i].isdigit() and not line[i - 1].isdigit(): #Include 1 digit numbers\n",
    "            winningnumbers.append(int(line[i]))\n",
    "    return winningnumbers\n",
    "\n",
    "#Function to compare the scratchcard and winning numbers lists.\n",
    "def compare(scratchcard, winningnumbers, common_elements):\n",
    "    common_elements.extend(num for num in scratchcard if num in winningnumbers)\n",
    "    return common_elements\n",
    "\n",
    "#Calculate each card's worth ( 2^(n-1) ) and add the values up.\n",
    "def score(common_elements, total_value):\n",
    "    if len(common_elements) > 0:\n",
    "        score = 2**(len(common_elements) - 1)\n",
    "    else:\n",
    "        score = 0\n",
    "    total_value += score\n",
    "    return total_value\n",
    "\n",
    "total_value = 0\n",
    "for line in file.readlines():\n",
    "    colon_index = line.find(':')\n",
    "    pipe_index = line.find('|')\n",
    "    \n",
    "    scratchcard = scratch_numbers(line, colon_index, pipe_index,[]) #Puts the scratchnumbers into a list\n",
    "    \n",
    "    winningnumbers = winning_numbers(line, pipe_index, []) #Puts the winning numbers into a list\n",
    "    \n",
    "    common_elements = compare(scratchcard, winningnumbers, []) #Compares scratchcard with winning numbers and puts common elements into list\n",
    "\n",
    "    total_value = score(common_elements, total_value) #Calculates points\n",
    "\n",
    "print(total_value)"
   ]
  },
  {
   "cell_type": "code",
   "execution_count": 191,
   "id": "4b6de68b-4b66-4c4b-8ae4-38180b35e6cc",
   "metadata": {
    "tags": []
   },
   "outputs": [
    {
     "name": "stdout",
     "output_type": "stream",
     "text": [
      "10212704\n"
     ]
    }
   ],
   "source": [
    "file = open(r\"C:\\Users\\Pollen\\Documents\\Afstudeerstage\\AdventOfCode\\day4input.txt\")\n",
    "\n",
    "def collect_cards(common_elements, number_of_cards, i):\n",
    "    if len(common_elements) > 0:\n",
    "        for j in range(len(common_elements)): #Iterate from the card for j cards behind the current card (unless 0 common elements)\n",
    "            number_of_cards[i + j + 1] += number_of_cards[i] #Adds the new number of cards into an updated version of number_of_cards\n",
    "    return number_of_cards\n",
    "\n",
    "def count_cards(number_of_cards, total_value):\n",
    "    for i in range(len(number_of_cards)):\n",
    "        total_value += number_of_cards[i] #Add the number of cards to the total value\n",
    "    return total_value\n",
    "\n",
    "lines = file.readlines()\n",
    "number_of_cards = [1] * len(lines) #Creates a grid of ones (the amount of starting scratchcards, one of each)\n",
    "\n",
    "i = 0\n",
    "for line in lines:\n",
    "    scratchcard = scratch_numbers(line, colon_index, pipe_index,[]) #Puts the scratchcard numbers into a list\n",
    "    \n",
    "    winningnumbers = winning_numbers(line, pipe_index, []) #Puts the winning numbers into a list\n",
    "    \n",
    "    common_elements = compare(scratchcard, winningnumbers, []) #Compares scratchcard with winning numbers and puts common elements into list\n",
    "\n",
    "    number_of_cards = collect_cards(common_elements, number_of_cards, i) #Update the amount of cards after this one\n",
    "    i += 1\n",
    "\n",
    "total_value = count_cards(number_of_cards, 0)\n",
    "    \n",
    "print(total_value)\n"
   ]
  },
  {
   "cell_type": "code",
   "execution_count": null,
   "id": "142003e8-6f89-42cf-93c7-3b283f24c12c",
   "metadata": {},
   "outputs": [],
   "source": []
  }
 ],
 "metadata": {
  "kernelspec": {
   "display_name": "Python 3 (ipykernel)",
   "language": "python",
   "name": "python3"
  },
  "language_info": {
   "codemirror_mode": {
    "name": "ipython",
    "version": 3
   },
   "file_extension": ".py",
   "mimetype": "text/x-python",
   "name": "python",
   "nbconvert_exporter": "python",
   "pygments_lexer": "ipython3",
   "version": "3.11.2"
  }
 },
 "nbformat": 4,
 "nbformat_minor": 5
}
