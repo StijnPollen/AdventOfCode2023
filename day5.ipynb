{
 "cells": [
  {
   "cell_type": "code",
   "execution_count": 2,
   "id": "08699f5b-8998-41a9-a641-37fb9ac64eb7",
   "metadata": {
    "tags": []
   },
   "outputs": [
    {
     "name": "stdout",
     "output_type": "stream",
     "text": [
      "323142486\n"
     ]
    }
   ],
   "source": [
    "file_path = r\"C:\\Users\\Pollen\\Documents\\Afstudeerstage\\AdventOfCode\\day5input.txt\"\n",
    "\n",
    "with open(file_path, 'r') as file:\n",
    "    lines = file.read().strip().split('\\n\\n')\n",
    "\n",
    "    #Split seeds and maps\n",
    "    seeds, *maps = lines\n",
    "\n",
    "    #Transform seeds and maps into useful lists\n",
    "    seeds = [int(x) for x in seeds.split(':')[1].split()]\n",
    "    maps = [[int(x) for x in line.split() if x.isdigit()] for line in maps if line]\n",
    "\n",
    "#Group maps[i] into rows of three columns\n",
    "clean_maps = []\n",
    "for i in range(len(maps)):\n",
    "    clean_maps.append([maps[i][j:j+3] for j in range(0, len(maps[i]), 3)])\n",
    "\n",
    "#Return destination based on source\n",
    "def source_to_dest(source, clean_maps):\n",
    "    destination = source\n",
    "    for i in range(len(clean_maps)):\n",
    "        if clean_maps[i][1] + clean_maps[i][2] > source > clean_maps[i][1]:\n",
    "            destination = clean_maps[i][0] + (source - clean_maps[i][1])\n",
    "            break\n",
    "    return destination\n",
    "\n",
    "#Get a final destination from a seed (from beginning to end)\n",
    "def seed_to_location(seed):\n",
    "    location = seed\n",
    "    for i in range(len(clean_maps)):\n",
    "        location = source_to_dest(location, clean_maps[i])\n",
    "    return location\n",
    "\n",
    "total_value = 999999999999999 #Arbitrary high value\n",
    "#Now perform seed_to_location() for every seed and select the lowest value as the total_value\n",
    "for i in range(len(seeds)):\n",
    "    location = seed_to_location(seeds[i])\n",
    "    if location < total_value:\n",
    "        total_value = location\n",
    "        \n",
    "print(total_value)"
   ]
  },
  {
   "cell_type": "code",
   "execution_count": 70,
   "id": "c39868ca-5795-4f86-95a5-33476048035d",
   "metadata": {
    "tags": []
   },
   "outputs": [
    {
     "name": "stdout",
     "output_type": "stream",
     "text": [
      "89615590\n"
     ]
    }
   ],
   "source": [
    "#Breaking seeds into a list of 2 columns (initial seeds and seed ranges)\n",
    "clean_seeds = [(seeds[i], seeds[i + 1]) for i in range(0, len(seeds), 2)]\n",
    "\n",
    "#Create ranges of seeds\n",
    "def seeds_to_ranges(clean_seeds):\n",
    "    seed_ranges = []\n",
    "    for i in range(len(clean_seeds)):\n",
    "        seed_ranges.append((clean_seeds[i][0], clean_seeds[i][0] + clean_seeds[i][1]))\n",
    "    return seed_ranges\n",
    "\n",
    "#Cut a range in half\n",
    "def split_and_cut(seed_ranges, ranges_to_split):\n",
    "    new_seed_ranges = seed_ranges\n",
    "    if ranges_to_split in seed_ranges:  #Check if the initial seed is in ranges_to_split\n",
    "        start, end = ranges_to_split\n",
    "        midpoint = (start + end) // 2\n",
    "        first_half = (start, midpoint)\n",
    "        second_half = (midpoint + 1, end)  #Adding 1 to avoid overlap with the first half\n",
    "        new_seed_ranges.extend([first_half, second_half])\n",
    "        new_seed_ranges.remove(ranges_to_split)\n",
    "    return new_seed_ranges\n",
    "\n",
    "#Return destination based on source\n",
    "def source_to_dest(clean_maps, seed_ranges, iteration):\n",
    "    for i in range(len(clean_maps)):  # For every map\n",
    "        for j in range(len(clean_maps[i])):  # For every given source to destination range in a map\n",
    "            source_low = seed_ranges[iteration][0]\n",
    "            source_high = seed_ranges[iteration][1]\n",
    "            if (\n",
    "                clean_maps[i][j][1] + clean_maps[i][j][2] > source_low > clean_maps[i][j][1]\n",
    "                and clean_maps[i][j][1] + clean_maps[i][j][2] > source_high > clean_maps[i][j][1]\n",
    "            ):\n",
    "                destination_low = clean_maps[i][j][0] + (source_low - clean_maps[i][j][1])\n",
    "                destination_high = clean_maps[i][j][0] + (source_high - clean_maps[i][j][1])\n",
    "            else:\n",
    "                ranges_to_split = source_low, source_high\n",
    "                seed_ranges = split_and_cut(seed_ranges, ranges_to_split)\n",
    "                seed_number = len(seed_ranges) - 1\n",
    "    return destination_low, destination_high, seed_number\n",
    "\n",
    "#transform individual seeds to ranges of seeds.\n",
    "seed_ranges = seeds_to_ranges(clean_seeds)\n",
    "starting_ranges = seed_ranges\n",
    "\n",
    "total_value = 999999999999999\n",
    "for seed_number in range(len(seed_ranges)): #For every seed\n",
    "    destination = source_to_dest(clean_maps, seed_ranges, seed_number)\n",
    "    seed_number = destination[2]\n",
    "    if total_value > destination[0]:\n",
    "        total_value = destination[0]\n",
    "\n",
    "print(total_value)\n",
    "\n",
    "#I know I'm pretty close but I give up."
   ]
  },
  {
   "cell_type": "code",
   "execution_count": null,
   "id": "859bd475-9327-43e3-9f74-78385de37db0",
   "metadata": {},
   "outputs": [],
   "source": []
  }
 ],
 "metadata": {
  "kernelspec": {
   "display_name": "Python 3 (ipykernel)",
   "language": "python",
   "name": "python3"
  },
  "language_info": {
   "codemirror_mode": {
    "name": "ipython",
    "version": 3
   },
   "file_extension": ".py",
   "mimetype": "text/x-python",
   "name": "python",
   "nbconvert_exporter": "python",
   "pygments_lexer": "ipython3",
   "version": "3.11.2"
  }
 },
 "nbformat": 4,
 "nbformat_minor": 5
}
