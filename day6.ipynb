{
 "cells": [
  {
   "cell_type": "code",
   "execution_count": 98,
   "id": "d1507645-6e70-4418-b443-84dff7c43994",
   "metadata": {
    "tags": []
   },
   "outputs": [
    {
     "name": "stdout",
     "output_type": "stream",
     "text": [
      "608902\n"
     ]
    }
   ],
   "source": [
    "file_path = r\"C:\\Users\\Pollen\\Documents\\Afstudeerstage\\AdventOfCode\\day6input.txt\"\n",
    "\n",
    "#Get a list of the time and distance values.\n",
    "def time_and_distance(file_path):\n",
    "    time_list = []\n",
    "    distance_list = []\n",
    "    with open(file_path, 'r') as file:\n",
    "        lines = file.read().strip().split('\\n')\n",
    "        values_time = lines[0].split()\n",
    "        time_list = [int(value) for value in values_time if value.isdigit()]\n",
    "        values_distance = lines[1].split()\n",
    "        distance_list = [int(value) for value in values_distance if value.isdigit()]\n",
    "    return time_list, distance_list\n",
    "\n",
    "#Create a list of travel distances as a function of all possible button times.\n",
    "def button_to_distance(time_list):\n",
    "    travel_distances = []\n",
    "    for button_time in range(time_list + 1):\n",
    "        travel_distances.append(button_time * (time_list - button_time))\n",
    "    return travel_distances\n",
    "\n",
    "#Multiplies the amount of record_breaking_distances to get the total_value.\n",
    "def score_calculation(record_breaking_distances, total_value):\n",
    "    total_value = total_value * len(record_breaking_distances)\n",
    "    return total_value\n",
    "\n",
    "#For each race, create a list of travel distances that break the record distance. Then calculates the total_value using score_calculation().\n",
    "def record_breakers(time_list, distance_ilst, total_value):\n",
    "    for race_number in range(len(distance_list)):\n",
    "        record_breaking_distances = []\n",
    "        travel_distances = button_to_distance(time_list[race_number])\n",
    "        for i in range(len(travel_distances)):\n",
    "            if travel_distances[i] > distance_list[race_number]:\n",
    "                record_breaking_distances.append(travel_distances[i])\n",
    "        total_value = score_calculation(record_breaking_distances, total_value)\n",
    "    return total_value\n",
    "\n",
    "total_value = 1\n",
    "time_list, distance_list = time_and_distance(file_path)\n",
    "total_value = record_breakers(time_list, distance_list, total_value)\n",
    "\n",
    "print(total_value)\n"
   ]
  },
  {
   "cell_type": "code",
   "execution_count": 106,
   "id": "95f95ec5-13c8-4222-b267-a1a74ec70953",
   "metadata": {
    "tags": []
   },
   "outputs": [
    {
     "name": "stdout",
     "output_type": "stream",
     "text": [
      "46173809\n"
     ]
    }
   ],
   "source": [
    "#Create the correct time and distance from the time and distance lists.\n",
    "def list_to_int(time_list, distance_list):\n",
    "    time_int = int(''.join(str(value) for value in time_list))\n",
    "    distance_int = int(''.join(str(value) for value in distance_list))\n",
    "    return time_int, distance_int\n",
    "\n",
    "#Create a list of travel distances as a function of all possible button times.\n",
    "def button_to_distance(time_int):\n",
    "    travel_distances = []\n",
    "    for button_time in range(time_int + 1):\n",
    "        travel_distances.append(button_time * (time_int - button_time))\n",
    "    return travel_distances\n",
    "\n",
    "#For each race, create a list of travel distances that break the record distance. Then calculates the total_value using score_calculation().\n",
    "def record_breakers(time_list, distance_ilst, total_value):\n",
    "    record_breaking_distances = []\n",
    "    travel_distances = button_to_distance(time_int)\n",
    "    for i in range(len(travel_distances)):\n",
    "        if travel_distances[i] > distance_int:\n",
    "            record_breaking_distances.append(travel_distances[i])\n",
    "    total_value = len(record_breaking_distances)\n",
    "    return total_value\n",
    "\n",
    "time_int, distance_int = list_to_int(time_list, distance_list)\n",
    "total_value = record_breakers(time_int, distance_int, total_value)\n",
    "\n",
    "print(total_value)"
   ]
  },
  {
   "cell_type": "code",
   "execution_count": null,
   "id": "637dbae3-cca2-4239-9040-6fca2d709de3",
   "metadata": {},
   "outputs": [],
   "source": []
  }
 ],
 "metadata": {
  "kernelspec": {
   "display_name": "Python 3 (ipykernel)",
   "language": "python",
   "name": "python3"
  },
  "language_info": {
   "codemirror_mode": {
    "name": "ipython",
    "version": 3
   },
   "file_extension": ".py",
   "mimetype": "text/x-python",
   "name": "python",
   "nbconvert_exporter": "python",
   "pygments_lexer": "ipython3",
   "version": "3.11.2"
  }
 },
 "nbformat": 4,
 "nbformat_minor": 5
}
